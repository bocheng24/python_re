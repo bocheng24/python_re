{
 "cells": [
  {
   "cell_type": "code",
   "execution_count": 1,
   "metadata": {},
   "outputs": [],
   "source": [
    "import re"
   ]
  },
  {
   "cell_type": "markdown",
   "metadata": {},
   "source": [
    "## 使用 findall() 返回所有匹配上的字符串"
   ]
  },
  {
   "cell_type": "code",
   "execution_count": 5,
   "metadata": {},
   "outputs": [
    {
     "data": {
      "text/plain": [
       "['321-284-9999', '756-398-5555']"
      ]
     },
     "execution_count": 5,
     "metadata": {},
     "output_type": "execute_result"
    }
   ],
   "source": [
    "contact = '''\n",
    "Service phone:  321-284-9999\n",
    "Order phone: 756-398-5555\n",
    "'''\n",
    "\n",
    "phoneRegex = re.compile('\\d{3}-\\d{3}-\\d{4}')\n",
    "mo = phoneRegex.findall(contact)\n",
    "mo"
   ]
  },
  {
   "cell_type": "markdown",
   "metadata": {},
   "source": [
    "## 如果正则表达式是分组的，则返回带分组 tuple 的列表"
   ]
  },
  {
   "cell_type": "code",
   "execution_count": 7,
   "metadata": {},
   "outputs": [
    {
     "data": {
      "text/plain": [
       "[('321', '284-9999'), ('756', '398-5555')]"
      ]
     },
     "execution_count": 7,
     "metadata": {},
     "output_type": "execute_result"
    }
   ],
   "source": [
    "contact = '''\n",
    "Service phone:  321-284-9999\n",
    "Order phone: 756-398-5555\n",
    "'''\n",
    "\n",
    "phoneRegex = re.compile('(\\d{3})-(\\d{3}-\\d{4})')\n",
    "mo = phoneRegex.findall(contact)\n",
    "mo"
   ]
  },
  {
   "cell_type": "code",
   "execution_count": null,
   "metadata": {},
   "outputs": [],
   "source": []
  }
 ],
 "metadata": {
  "kernelspec": {
   "display_name": "Python 3",
   "language": "python",
   "name": "python3"
  },
  "language_info": {
   "codemirror_mode": {
    "name": "ipython",
    "version": 3
   },
   "file_extension": ".py",
   "mimetype": "text/x-python",
   "name": "python",
   "nbconvert_exporter": "python",
   "pygments_lexer": "ipython3",
   "version": "3.7.6"
  }
 },
 "nbformat": 4,
 "nbformat_minor": 4
}
