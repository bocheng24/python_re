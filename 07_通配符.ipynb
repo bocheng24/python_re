{
 "cells": [
  {
   "cell_type": "code",
   "execution_count": 1,
   "id": "7cc3139a",
   "metadata": {},
   "outputs": [],
   "source": [
    "import re"
   ]
  },
  {
   "cell_type": "markdown",
   "id": "0113cdd1",
   "metadata": {},
   "source": [
    "## 句点（.）被称为通配符，匹配除了换行符之外的所有字符"
   ]
  },
  {
   "cell_type": "code",
   "execution_count": 2,
   "id": "9adf6b61",
   "metadata": {},
   "outputs": [
    {
     "data": {
      "text/plain": [
       "['cat', 'hat', 'sat', 'lat', 'mat']"
      ]
     },
     "execution_count": 2,
     "metadata": {},
     "output_type": "execute_result"
    }
   ],
   "source": [
    "atRegex = re.compile('.at')\n",
    "atRegex.findall('The cat in the hat sat on the flat mat.')"
   ]
  },
  {
   "cell_type": "markdown",
   "id": "1663f698",
   "metadata": {},
   "source": [
    "### 注意句点（.）只匹配一个字符，所以上例中 flat 没有被匹配出，只匹配了 lat"
   ]
  },
  {
   "cell_type": "markdown",
   "id": "af62f5ed",
   "metadata": {},
   "source": [
    "### 用点-星 (.*) 组合匹配所有字符"
   ]
  },
  {
   "cell_type": "code",
   "execution_count": 5,
   "id": "eb469602",
   "metadata": {},
   "outputs": [
    {
     "data": {
      "text/plain": [
       "('Peter', 'Smith')"
      ]
     },
     "execution_count": 5,
     "metadata": {},
     "output_type": "execute_result"
    }
   ],
   "source": [
    "nameRegex = re.compile('First Name: (.*) Last Name: (.*)')\n",
    "mo = nameRegex.search('First Name: Peter Last Name: Smith')\n",
    "mo.groups()"
   ]
  },
  {
   "cell_type": "markdown",
   "id": "c11a1316",
   "metadata": {},
   "source": [
    "### 通过传入 re.DOTALL 作为 compile() 的第二个参数，可以让句点匹配所有字符，包括换行符"
   ]
  },
  {
   "cell_type": "code",
   "execution_count": 18,
   "id": "48ed8c95",
   "metadata": {},
   "outputs": [
    {
     "data": {
      "text/plain": [
       "'\\nSELECT FirstName, LastName, Department  \\nFROM HumanResources.vEmployeeDepartmentHistory  \\nWHERE FirstName = @FirstName AND LastName = @LastName  \\nAND EndDate IS NULL;\\n'"
      ]
     },
     "execution_count": 18,
     "metadata": {},
     "output_type": "execute_result"
    }
   ],
   "source": [
    "sql = r'''\n",
    "SELECT FirstName, LastName, Department  \n",
    "FROM HumanResources.vEmployeeDepartmentHistory  \n",
    "WHERE FirstName = @FirstName AND LastName = @LastName  \n",
    "AND EndDate IS NULL;\n",
    "'''\n",
    "\n",
    "sql"
   ]
  },
  {
   "cell_type": "markdown",
   "id": "37363775",
   "metadata": {},
   "source": [
    "### FROM 前面有一个 \\n，因此不能被匹配出"
   ]
  },
  {
   "cell_type": "code",
   "execution_count": null,
   "id": "1d471fbc",
   "metadata": {},
   "outputs": [],
   "source": [
    "sqlRegex = re.compile('SELECT (.*)FROM')\n",
    "mo = sqlRegex.search(sql)\n",
    "mo"
   ]
  },
  {
   "cell_type": "markdown",
   "id": "fddb4673",
   "metadata": {},
   "source": [
    "### 传入 re.DOTALL 作为 compile() 的第二个参数，则句点可以匹配 FROM 前面的 \\n"
   ]
  },
  {
   "cell_type": "code",
   "execution_count": 16,
   "id": "6c67a9f4",
   "metadata": {},
   "outputs": [
    {
     "data": {
      "text/plain": [
       "'SELECT FirstName, LastName, Department  \\nFROM'"
      ]
     },
     "execution_count": 16,
     "metadata": {},
     "output_type": "execute_result"
    }
   ],
   "source": [
    "sqlRegexALL = re.compile('SELECT (.*)FROM', re.DOTALL)\n",
    "mo = sqlRegexALL.search(sql)\n",
    "mo.group()"
   ]
  },
  {
   "cell_type": "markdown",
   "id": "534255c1",
   "metadata": {},
   "source": [
    "### 通过传入 re.IGNORECASE 或 re.I 作为 compile() 的第二个参数，可以忽略大小写"
   ]
  },
  {
   "cell_type": "code",
   "execution_count": 22,
   "id": "02778bae",
   "metadata": {},
   "outputs": [
    {
     "data": {
      "text/plain": [
       "'SELECT'"
      ]
     },
     "execution_count": 22,
     "metadata": {},
     "output_type": "execute_result"
    }
   ],
   "source": [
    "sqlIgnoreCase = re.compile('select', re.I)\n",
    "sqlIgnoreCase.search(sql).group()"
   ]
  },
  {
   "cell_type": "markdown",
   "id": "5b2d3d93",
   "metadata": {},
   "source": [
    "### 用 sub()  替换匹配上的字符串"
   ]
  },
  {
   "cell_type": "code",
   "execution_count": 24,
   "id": "3a551337",
   "metadata": {},
   "outputs": [
    {
     "name": "stdout",
     "output_type": "stream",
     "text": [
      "Agent Alice gave the secret documents to Agent Bob\n"
     ]
    },
    {
     "data": {
      "text/plain": [
       "'CENCORED gave the secret documents to CENCORED'"
      ]
     },
     "execution_count": 24,
     "metadata": {},
     "output_type": "execute_result"
    }
   ],
   "source": [
    "namereg = re.compile(r'Agent \\w+')\n",
    "\n",
    "s = 'Agent Alice gave the secret documents to Agent Bob'\n",
    "print(s)\n",
    "namereg.sub('CENCORED', s)"
   ]
  },
  {
   "cell_type": "markdown",
   "id": "cd6b6a58",
   "metadata": {},
   "source": [
    "### 在 sub() 的第一个参数中可以输入\\1、\\2、\\3 表示替换第几个分组的文本"
   ]
  },
  {
   "cell_type": "markdown",
   "id": "d4f18d5b",
   "metadata": {},
   "source": [
    "#### 如过要只保留密探的名字的首字母，隐去名字的剩余部分，可以对姓名做分组(\\w)\\w+，()中只有一个字符，表示首字母，后面表示首字母后面的字符"
   ]
  },
  {
   "cell_type": "code",
   "execution_count": 32,
   "id": "046d3e3a",
   "metadata": {},
   "outputs": [
    {
     "data": {
      "text/plain": [
       "'F***** gave the secret documents to B*****'"
      ]
     },
     "execution_count": 32,
     "metadata": {},
     "output_type": "execute_result"
    }
   ],
   "source": [
    "namereg2 = re.compile(r'Agent (\\w)\\w+')\n",
    "\n",
    "s = 'Agent Fransisco gave the secret documents to Agent Bob'\n",
    "namereg2.sub(r'\\1*****', s)"
   ]
  },
  {
   "cell_type": "code",
   "execution_count": null,
   "id": "5b568922",
   "metadata": {},
   "outputs": [],
   "source": []
  }
 ],
 "metadata": {
  "kernelspec": {
   "display_name": "Python 3 (ipykernel)",
   "language": "python",
   "name": "python3"
  },
  "language_info": {
   "codemirror_mode": {
    "name": "ipython",
    "version": 3
   },
   "file_extension": ".py",
   "mimetype": "text/x-python",
   "name": "python",
   "nbconvert_exporter": "python",
   "pygments_lexer": "ipython3",
   "version": "3.9.5"
  }
 },
 "nbformat": 4,
 "nbformat_minor": 5
}
