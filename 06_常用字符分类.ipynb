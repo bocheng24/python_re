{
 "cells": [
  {
   "cell_type": "code",
   "execution_count": 1,
   "metadata": {},
   "outputs": [],
   "source": [
    "import re"
   ]
  },
  {
   "attachments": {},
   "cell_type": "markdown",
   "metadata": {},
   "source": [
    "## 默认字符分类\n",
    "<img src=\"imgs/chars.png\" width=\"500px\">"
   ]
  },
  {
   "cell_type": "markdown",
   "metadata": {},
   "source": [
    "## 自定义字符分类"
   ]
  },
  {
   "cell_type": "markdown",
   "metadata": {},
   "source": [
    "### 在[]中写入多个字母、数字，匹配其中之一"
   ]
  },
  {
   "cell_type": "code",
   "execution_count": 4,
   "metadata": {},
   "outputs": [
    {
     "data": {
      "text/plain": [
       "['e',\n",
       " 'a',\n",
       " 'a',\n",
       " 'e',\n",
       " 'e',\n",
       " 'e',\n",
       " 'i',\n",
       " 'e',\n",
       " 'o',\n",
       " 'e',\n",
       " 'a',\n",
       " 'o',\n",
       " 'a',\n",
       " 'u',\n",
       " 'a',\n",
       " 'a',\n",
       " 'o',\n",
       " 'i',\n",
       " 'o']"
      ]
     },
     "execution_count": 4,
     "metadata": {},
     "output_type": "execute_result"
    }
   ],
   "source": [
    "vowReg = re.compile(r'[aeiouAEIOU]')\n",
    "doc = '''\n",
    "React has been designed from the start for gradual adoption. \n",
    "'''\n",
    "vowReg.findall(doc)"
   ]
  },
  {
   "cell_type": "markdown",
   "metadata": {},
   "source": [
    "### 在[]中使用 \"-\" 确定字母或数字范围"
   ]
  },
  {
   "cell_type": "code",
   "execution_count": 6,
   "metadata": {},
   "outputs": [],
   "source": [
    "pattern = '[a-zA-Z0-9]'"
   ]
  },
  {
   "cell_type": "markdown",
   "metadata": {},
   "source": [
    "### 注意：在[]中普通的正则表达式不会被编译，如?、*、+都被当成普通字符"
   ]
  },
  {
   "cell_type": "markdown",
   "metadata": {},
   "source": [
    "### 在[]中，以^开头，表示取[]中以外的字符"
   ]
  },
  {
   "cell_type": "code",
   "execution_count": 7,
   "metadata": {},
   "outputs": [
    {
     "data": {
      "text/plain": [
       "['\\n',\n",
       " 'R',\n",
       " 'c',\n",
       " 't',\n",
       " ' ',\n",
       " 'h',\n",
       " 's',\n",
       " ' ',\n",
       " 'b',\n",
       " 'n',\n",
       " ' ',\n",
       " 'd',\n",
       " 's',\n",
       " 'g',\n",
       " 'n',\n",
       " 'd',\n",
       " ' ',\n",
       " 'f',\n",
       " 'r',\n",
       " 'm',\n",
       " ' ',\n",
       " 't',\n",
       " 'h',\n",
       " ' ',\n",
       " 's',\n",
       " 't',\n",
       " 'r',\n",
       " 't',\n",
       " ' ',\n",
       " 'f',\n",
       " 'r',\n",
       " ' ',\n",
       " 'g',\n",
       " 'r',\n",
       " 'd',\n",
       " 'l',\n",
       " ' ',\n",
       " 'd',\n",
       " 'p',\n",
       " 't',\n",
       " 'n',\n",
       " '.',\n",
       " ' ',\n",
       " '\\n']"
      ]
     },
     "execution_count": 7,
     "metadata": {},
     "output_type": "execute_result"
    }
   ],
   "source": [
    "nonVowReg = re.compile(r'[^aeiouAEIOU]')\n",
    "doc = '''\n",
    "React has been designed from the start for gradual adoption. \n",
    "'''\n",
    "nonVowReg.findall(doc)"
   ]
  },
  {
   "cell_type": "markdown",
   "metadata": {},
   "source": [
    "### 在[]以外，^ 表示以某个字符串开头，\\$表示某个字符串结尾"
   ]
  },
  {
   "cell_type": "code",
   "execution_count": 15,
   "metadata": {},
   "outputs": [
    {
     "data": {
      "text/plain": [
       "['React']"
      ]
     },
     "execution_count": 15,
     "metadata": {},
     "output_type": "execute_result"
    }
   ],
   "source": [
    "doc = '''\n",
    "React has been designed from the start for gradual adoption, and you can use as little or as much React as you need. \n",
    "Perhaps you only want to add some “sprinkles of interactivity” to an existing page. \n",
    "React components are a great way to do that.\n",
    "\n",
    "The majority of websites aren’t, and don’t need to be, single-page apps. \n",
    "With a few lines of code and no build tooling, try React in a small part of your website. \n",
    "You can then either gradually expand its presence, or keep it contained to a few dynamic widgets.\n",
    "'''.strip()\n",
    "\n",
    "reactReg = re.compile(r'^React')\n",
    "reactReg.findall(doc)"
   ]
  },
  {
   "cell_type": "code",
   "execution_count": null,
   "metadata": {},
   "outputs": [],
   "source": []
  }
 ],
 "metadata": {
  "kernelspec": {
   "display_name": "Python 3",
   "language": "python",
   "name": "python3"
  },
  "language_info": {
   "codemirror_mode": {
    "name": "ipython",
    "version": 3
   },
   "file_extension": ".py",
   "mimetype": "text/x-python",
   "name": "python",
   "nbconvert_exporter": "python",
   "pygments_lexer": "ipython3",
   "version": "3.7.6"
  }
 },
 "nbformat": 4,
 "nbformat_minor": 4
}
